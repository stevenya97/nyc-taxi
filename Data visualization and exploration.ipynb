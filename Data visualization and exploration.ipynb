{
 "cells": [
  {
   "cell_type": "code",
   "execution_count": 1,
   "metadata": {},
   "outputs": [],
   "source": [
    "import pandas as pd\n",
    "import matplotlib.pyplot as plt\n",
    "import numpy as np\n",
    "from datetime import datetime\n",
    "import time\n",
    "import os\n",
    "from IPython.display import clear_output\n"
   ]
  },
  {
   "cell_type": "code",
   "execution_count": null,
   "metadata": {},
   "outputs": [],
   "source": [
    "#from sklearn.cluster import KMeans\n",
    "#from sklearn import preprocessing\n",
    "#from sklearn.model_selection import train_test_split\n",
    "#from sklearn.preprocessing import Imputer\n",
    "#from sklearn import linear_model\n",
    "#from sklearn.metrics import mean_squared_error\n",
    "#from sklearn.ensemble import RandomForestRegressor\n",
    "import folium\n",
    "import tensorflow as tf\n",
    "from bokeh.plotting import figure, output_notebook, show "
   ]
  },
  {
   "cell_type": "markdown",
   "metadata": {},
   "source": [
    "# Loading Data"
   ]
  },
  {
   "cell_type": "code",
   "execution_count": null,
   "metadata": {},
   "outputs": [],
   "source": [
    "#Loading data\n",
    "df=pd.read_csv(\"green_tripdata_2016-05.csv\", usecols=\n",
    "                  ['lpep_pickup_datetime', 'Lpep_dropoff_datetime',  \n",
    "                   'Pickup_longitude', 'Pickup_latitude',\n",
    "                   'Dropoff_longitude', 'Dropoff_latitude',  \n",
    "                   'Passenger_count','Trip_distance'])\n",
    "#add fare ammount later if needed"
   ]
  },
  {
   "cell_type": "code",
   "execution_count": null,
   "metadata": {},
   "outputs": [],
   "source": [
    "#Brief look at our data\n",
    "df.head()"
   ]
  },
  {
   "cell_type": "code",
   "execution_count": null,
   "metadata": {},
   "outputs": [],
   "source": [
    "#retrieving our range of coordinates\n",
    "print(np.min(df['Pickup_longitude']), np.min(df['Pickup_latitude']))\n",
    "print(np.max(df['Pickup_longitude']), np.max(df['Pickup_latitude']))\n",
    "print(np.min(df['Dropoff_longitude']), np.min(df['Dropoff_latitude']))\n",
    "print(np.max(df['Dropoff_longitude']), np.max(df['Dropoff_latitude']))"
   ]
  },
  {
   "cell_type": "code",
   "execution_count": null,
   "metadata": {},
   "outputs": [],
   "source": [
    "#looking at data types to supress scientific notation below\n",
    "df.dtypes"
   ]
  },
  {
   "cell_type": "code",
   "execution_count": null,
   "metadata": {},
   "outputs": [],
   "source": [
    "#df.describe().apply(lambda x: format(x, 'f'))\n",
    "df.describe()\n",
    "#TODO: suppress sci not."
   ]
  },
  {
   "cell_type": "code",
   "execution_count": null,
   "metadata": {},
   "outputs": [],
   "source": [
    "#number of data points\n",
    "print('Size:', df.shape[0])"
   ]
  },
  {
   "cell_type": "markdown",
   "metadata": {},
   "source": [
    "# Visualization of Dataset"
   ]
  },
  {
   "cell_type": "code",
   "execution_count": null,
   "metadata": {},
   "outputs": [],
   "source": [
    "points_x = np.array(df['Pickup_longitude'])\n",
    "points_y = np.array(df['Pickup_latitude'])"
   ]
  },
  {
   "cell_type": "code",
   "execution_count": null,
   "metadata": {},
   "outputs": [],
   "source": [
    "#basic scatter plot\n",
    "plt.axis([-74.5, -73.4,40.5, 41.2])\n",
    "plt.scatter(points_x,points_y)"
   ]
  },
  {
   "cell_type": "code",
   "execution_count": null,
   "metadata": {},
   "outputs": [],
   "source": [
    "%time\n",
    "# random 10k samples\n",
    "samples = df.sample(n=1000)\n",
    "samples2=df.sample(n=10000)"
   ]
  },
  {
   "cell_type": "code",
   "execution_count": null,
   "metadata": {},
   "outputs": [],
   "source": [
    "m = folium.Map(location=[40.9, -74.05],zoom_start=12)\n",
    "for each in samples.iterrows():\n",
    "    folium.CircleMarker([each[1]['Pickup_latitude'],each[1]['Pickup_longitude']],\n",
    "                        radius=1,\n",
    "                        color='blue',\n",
    "                        popup=str(each[1]['Pickup_latitude'])+','+str(each[1]['Pickup_longitude']),\n",
    "                        fill_color='#FD8A6C'\n",
    "                        ).add_to(m)"
   ]
  },
  {
   "cell_type": "code",
   "execution_count": null,
   "metadata": {
    "scrolled": false
   },
   "outputs": [],
   "source": [
    "m"
   ]
  },
  {
   "cell_type": "code",
   "execution_count": null,
   "metadata": {},
   "outputs": [],
   "source": [
    "output_notebook()"
   ]
  },
  {
   "cell_type": "code",
   "execution_count": null,
   "metadata": {},
   "outputs": [],
   "source": [
    "NYC = x_range, y_range = ((-74.05, -73.7), (40.6, 40.9))\n",
    "plot_width = int(750)\n",
    "plot_height = int(plot_width//1.2)\n",
    "\n",
    "def base_plot(tools='pan, wheel_zoom, reset', plot_width=plot_width, plot_height=plot_height, **plot_args):\n",
    "    p = figure(tools=tools, plot_width=plot_width, plot_height=plot_height,\n",
    "              x_range=x_range, y_range=y_range, outline_line_color=None,\n",
    "              min_border=0, min_border_left=0, min_border_right=0,\n",
    "              min_border_top=0, min_border_bottom=0, **plot_args)\n",
    "    \n",
    "    p.xgrid.grid_line_color = None\n",
    "    p.ygrid.grid_line_color = None\n",
    "    return p\n",
    "\n",
    "options = dict(line_color=None, fill_color='blue', size=5)"
   ]
  },
  {
   "cell_type": "code",
   "execution_count": null,
   "metadata": {},
   "outputs": [],
   "source": [
    "p = base_plot()\n",
    "\n",
    "p.circle(x=samples2['Pickup_longitude'], y=samples2['Pickup_latitude'], **options)\n",
    "show(p)"
   ]
  },
  {
   "cell_type": "code",
   "execution_count": null,
   "metadata": {},
   "outputs": [],
   "source": [
    "import datashader as ds\n",
    "from datashader import transfer_functions as tr_fns\n",
    "from datashader.colors import Greys9\n",
    "Greys9_r = list(reversed(Greys9))[:2]"
   ]
  },
  {
   "cell_type": "code",
   "execution_count": null,
   "metadata": {},
   "outputs": [],
   "source": [
    "%%time\n",
    "cvs = ds.Canvas(plot_width=plot_width, plot_height=plot_height, x_range=x_range, y_range=y_range)\n",
    "agg = cvs.points(df, 'Dropoff_longitude', 'Dropoff_latitude', ds.count('Passenger_count'))\n",
    "img = tr_fns.shade(agg, cmap=[\"white\", 'darkblue'], how='linear')\n",
    "\n",
    "img"
   ]
  },
  {
   "cell_type": "code",
   "execution_count": null,
   "metadata": {},
   "outputs": [],
   "source": [
    "from datashader.bokeh_ext import InteractiveImage\n",
    "from functools import partial\n",
    "from datashader.utils import export_image\n",
    "from datashader.colors import colormap_select, Greys9, Hot, viridis, inferno\n",
    "from IPython.core.display import HTML, display\n",
    "\n",
    "background = \"black\"\n",
    "export = partial(export_image, export_path=\"export\", background=background)\n",
    "cm = partial(colormap_select, reverse=(background==\"black\"))\n",
    "\n",
    "def create_image(x_range, y_range, w=plot_width, h=plot_height):\n",
    "    cvs = ds.Canvas(plot_width=w, plot_height=h, x_range=x_range, y_range=y_range)\n",
    "    agg = cvs.points(df, 'Pickup_longitude', 'Pickup_latitude', ds.count('Passenger_count'))\n",
    "    img = tr_fns.shade(agg, cmap=Hot, how='eq_hist')\n",
    "    return tr_fns.dynspread(img, threshold=0.5, max_px=4)\n",
    "\n",
    "p = base_plot(background_fill_color=background)\n",
    "export(create_image(*NYC), \"NYCT_hot_green\")\n",
    "InteractiveImage(p, create_image)"
   ]
  },
  {
   "cell_type": "code",
   "execution_count": null,
   "metadata": {},
   "outputs": [],
   "source": [
    "from functools import partial\n",
    "\n",
    "background = \"black\"\n",
    "export = partial(export_image, export_path=\"export\", background=background)\n",
    "m = partial(colormap_select, reverse=(background==\"black\"))\n",
    "\n",
    "def create_image90(x_range, y_range, w=plot_width, h=plot_height):\n",
    "    cvs = ds.Canvas(plot_width=w, plot_height=h, x_range=x_range, y_range=y_range)\n",
    "    agg = cvs.points(df, 'Dropoff_longitude', 'Dropoff_latitude', ds.count('Passenger_count'))\n",
    "    img = tr_fns.shade(agg.where(agg > np.percentile(agg, 90)), cmap=inferno, how='eq_hist')\n",
    "    return tr_fns.dynspread(img, threshold=0.3, max_px=4)\n",
    "    \n",
    "p = base_plot(background_fill_color=background)\n",
    "export(create_image(*NYC), \"NYCT_90th\")\n",
    "InteractiveImage(p, create_image90)"
   ]
  },
  {
   "cell_type": "code",
   "execution_count": null,
   "metadata": {},
   "outputs": [],
   "source": [
    "def merged_images(x_range, y_range, w=plot_width, h=plot_height, how='log'):\n",
    "    cvs = ds.Canvas(plot_width=w, plot_height=h, x_range=x_range, y_range=y_range)\n",
    "    picks = cvs.points(df, 'Pickup_longitude', 'Pickup_latitude', ds.count('Passenger_count'))\n",
    "    drops = cvs.points(df, 'Dropoff_longitude', 'Dropoff_latitude', ds.count('Passenger_count'))\n",
    "    more_drops = tr_fns.shade(drops.where(drops > picks), cmap=[\"darkblue\", 'cornflowerblue'], how=how)\n",
    "    more_picks = tr_fns.shade(drops.where(picks > drops), cmap=[\"darkred\", 'orangered'], how=how)\n",
    "    img = tr_fns.stack(more_picks, more_drops)\n",
    "    return tr_fns.dynspread(img, threshold=0.3, max_px=4)\n",
    "\n",
    "p = base_plot(background_fill_color=background)\n",
    "export(merged_images(*NYC), \"NYCT_pickups_vs_drops\")\n",
    "#InteractiveImage(p, merged_images)"
   ]
  },
  {
   "cell_type": "markdown",
   "metadata": {},
   "source": [
    "# Feature Selection"
   ]
  },
  {
   "cell_type": "code",
   "execution_count": null,
   "metadata": {},
   "outputs": [],
   "source": [
    "green=df[['lpep_pickup_datetime','Pickup_latitude', 'Pickup_longitude','Passenger_count','Trip_istance']]\n",
    "green.columns=['Date','Lat','Long']\n",
    "green[\"Type\"]=\"green\" #used to identify taxi type later\n",
    "green[\"Date\"]=green[\"Date\"].str[0:13].replace(\"\\s+\",\"-\", regex=True)\n"
   ]
  },
  {
   "cell_type": "code",
   "execution_count": null,
   "metadata": {},
   "outputs": [],
   "source": [
    "green"
   ]
  },
  {
   "cell_type": "code",
   "execution_count": null,
   "metadata": {},
   "outputs": [],
   "source": [
    "yellow_raw=pd.read_csv(\"yellow_tripdata_2016-05.csv\", index_col=False)"
   ]
  },
  {
   "cell_type": "code",
   "execution_count": null,
   "metadata": {},
   "outputs": [],
   "source": [
    "#yellow_raw\n",
    "yellow_temp=yellow_raw[['passenger_count','pickup_latitude', 'pickup_longitude']]\n",
    "\n",
    "points_x_yel = np.array(yellow_temp['pickup_longitude'])\n",
    "points_y_yel = np.array(yellow_temp['pickup_latitude'])\n",
    "plt.axis([-74.5, -73.4,40.5, 41.2])\n",
    "plt.scatter(points_x_yel,points_y_yel)"
   ]
  },
  {
   "cell_type": "code",
   "execution_count": null,
   "metadata": {},
   "outputs": [],
   "source": []
  },
  {
   "cell_type": "code",
   "execution_count": null,
   "metadata": {},
   "outputs": [],
   "source": [
    "yellow=yellow_raw[['tpep_pickup_datetime','pickup_latitude', 'pickup_longitude']]\n",
    "yellow.columns=['Date','Lat','Long']\n",
    "yellow[\"Type\"]=\"yellow\" #used to identify taxi type later\n",
    "yellow[\"Date\"]=yellow[\"Date\"].str[0:13].replace(\"\\s+\",\"-\", regex=True)"
   ]
  },
  {
   "cell_type": "code",
   "execution_count": null,
   "metadata": {},
   "outputs": [],
   "source": [
    "yellow"
   ]
  },
  {
   "cell_type": "code",
   "execution_count": null,
   "metadata": {},
   "outputs": [],
   "source": [
    "sample_yellow=yellow.sample(n=1000)\n",
    "sample_yellow_raw=yellow_raw.sample(n=10000)\n",
    "m_yellow = folium.Map(location=[40.9, -74.05],zoom_start=12)\n",
    "for each in sample_yellow.iterrows():\n",
    "    folium.CircleMarker([float(each[1]['Lat']),float(each[1]['Long'])],\n",
    "                        radius=1,\n",
    "                        color='blue',\n",
    "                        popup=str(each[1]['Lat'])+','+str(each[1]['Long']),\n",
    "                        fill_color='#FD8A6C'\n",
    "                        ).add_to(m_yellow)\n",
    "m_yellow"
   ]
  },
  {
   "cell_type": "code",
   "execution_count": null,
   "metadata": {},
   "outputs": [],
   "source": [
    "\n",
    "p.circle(x=sample_yellow_raw['pickup_longitude'], y=sample_yellow_raw['pickup_latitude'], **options)\n",
    "show(p)"
   ]
  },
  {
   "cell_type": "code",
   "execution_count": null,
   "metadata": {
    "scrolled": true
   },
   "outputs": [],
   "source": [
    "weather=pd.read_csv(\"nyc_weather_data_2016_05_temps_only.csv\", index_col=False)\n",
    "#weather"
   ]
  },
  {
   "cell_type": "code",
   "execution_count": null,
   "metadata": {},
   "outputs": [],
   "source": [
    "weather=weather.drop_duplicates(subset='DATE', keep='first') \n",
    "#weather[\"DATE\"]=pd.to_datetime(weather[\"DATE\"],format=\"%Y%m%d%\")\n",
    "weather[\"DATE\"]=pd.to_datetime(weather[\"DATE\"]).dt.strftime('%Y-%m-%d')\n",
    "weather=weather[['DATE','TAVG']]\n",
    "weather.columns=['Date', 'temp'] #add rain\n",
    "weather=weather.fillna(0)\n",
    "weather[\"date\"]=weather[\"Date\"].str[0:10].replace(\"\\s+\",\"-\", regex=True)\n",
    "weather"
   ]
  },
  {
   "cell_type": "code",
   "execution_count": null,
   "metadata": {},
   "outputs": [],
   "source": []
  },
  {
   "cell_type": "markdown",
   "metadata": {},
   "source": [
    "# Merging data"
   ]
  },
  {
   "cell_type": "code",
   "execution_count": null,
   "metadata": {},
   "outputs": [],
   "source": [
    "data=pd.concat([yellow, green], axis=0)\n",
    "data"
   ]
  },
  {
   "cell_type": "code",
   "execution_count": null,
   "metadata": {},
   "outputs": [],
   "source": [
    "data[\"date\"]=data[\"Date\"].str[0:10].replace(\"\\s+\",\"-\", regex=True)"
   ]
  },
  {
   "cell_type": "code",
   "execution_count": null,
   "metadata": {},
   "outputs": [],
   "source": [
    "#data"
   ]
  },
  {
   "cell_type": "code",
   "execution_count": null,
   "metadata": {},
   "outputs": [],
   "source": [
    "data=pd.merge(data, weather, how='left', on=['date']) #add for weather if I can\n",
    "\n",
    "#data.to_csv('may_data_both.csv', sep='\\t')\n",
    "\n",
    "# we will use this combined dataset to use for our modeling"
   ]
  },
  {
   "cell_type": "code",
   "execution_count": null,
   "metadata": {},
   "outputs": [],
   "source": [
    "date=pd.to_datetime(data['Date_x'], format='%Y-%m-%d-%H')\n",
    "data['Month']=date.dt.month\n",
    "data['Day']=date.dt.day\n",
    "data['Hour']=date.dt.hour\n",
    "data"
   ]
  },
  {
   "cell_type": "code",
   "execution_count": null,
   "metadata": {},
   "outputs": [],
   "source": [
    "data.to_csv('may_data_combined_weather.csv', sep='\\t')"
   ]
  },
  {
   "cell_type": "markdown",
   "metadata": {},
   "source": []
  },
  {
   "cell_type": "code",
   "execution_count": null,
   "metadata": {},
   "outputs": [],
   "source": []
  },
  {
   "cell_type": "markdown",
   "metadata": {},
   "source": [
    "# Starting point for part 2: reducing dimensionality"
   ]
  },
  {
   "cell_type": "code",
   "execution_count": null,
   "metadata": {},
   "outputs": [],
   "source": [
    "data2=pd.read_csv(\"may_data_combined_weather.csv\",sep='\\t')\n",
    "data2"
   ]
  },
  {
   "cell_type": "code",
   "execution_count": null,
   "metadata": {},
   "outputs": [],
   "source": [
    "data2.dtypes"
   ]
  },
  {
   "cell_type": "code",
   "execution_count": null,
   "metadata": {},
   "outputs": [],
   "source": [
    "sample_data2 = data2.sample(n=1000)\n",
    "sample_data2_big = data2.sample(n=10000)\n",
    "sample_data2_big"
   ]
  },
  {
   "cell_type": "code",
   "execution_count": null,
   "metadata": {},
   "outputs": [],
   "source": [
    "m2 = folium.Map(location=[40.9, -74.05],zoom_start=12)\n",
    "for each in sample_data.iterrows():\n",
    "    folium.CircleMarker([float(each[1]['Lat']),float(each[1]['Long'])],\n",
    "                        radius=1,\n",
    "                        color='blue',\n",
    "                        popup=str(each[1]['Lat'])+','+str(each[1]['Long']),\n",
    "                        fill_color='#FD8A6C'\n",
    "                        ).add_to(m2)\n",
    "m2"
   ]
  },
  {
   "cell_type": "code",
   "execution_count": null,
   "metadata": {
    "scrolled": true
   },
   "outputs": [],
   "source": [
    "\n",
    "background = \"black\"\n",
    "export = partial(export_image, export_path=\"export\", background=background)\n",
    "cm = partial(colormap_select, reverse=(background==\"black\"))\n",
    "\n",
    "def create_image(x_range, y_range, w=plot_width, h=plot_height):\n",
    "    cvs = ds.Canvas(plot_width=w, plot_height=h, x_range=x_range, y_range=y_range)\n",
    "    agg = cvs.points(yellow_raw, 'pickup_longitude', 'pickup_latitude', ds.count('passenger_count'))\n",
    "    img = tr_fns.shade(agg, cmap=Hot, how='eq_hist')\n",
    "    return tr_fns.dynspread(img, threshold=0.5, max_px=4)\n",
    "\n",
    "p = base_plot(background_fill_color=background)\n",
    "export(create_image(*NYC), \"NYCT_hot_yellow\")\n",
    "InteractiveImage(p, create_image)"
   ]
  },
  {
   "cell_type": "markdown",
   "metadata": {},
   "source": [
    "# Transcoding zipcode from coordinates"
   ]
  },
  {
   "cell_type": "code",
   "execution_count": null,
   "metadata": {},
   "outputs": [],
   "source": [
    "sample_data2_big[\"Lat\"]=sample_data2_big[\"Lat\"].astype(str)\n",
    "sample_data2_big[\"Long\"]=sample_data2_big[\"Long\"].astype(str)\n",
    "sample_data2_big[\"Coord\"]=sample_data2_big[[\"Lat\", \"Long\"]].apply(lambda x: \",\".join(x), axis=1)\n",
    "sample_data2_big"
   ]
  },
  {
   "cell_type": "code",
   "execution_count": null,
   "metadata": {},
   "outputs": [],
   "source": [
    "sample_data2_big.dtypes"
   ]
  },
  {
   "cell_type": "markdown",
   "metadata": {},
   "source": [
    "### testing coordinate entry with geopy"
   ]
  },
  {
   "cell_type": "code",
   "execution_count": null,
   "metadata": {},
   "outputs": [],
   "source": [
    "import folium\n",
    "m = folium.Map(location=[40.9, -74.05],zoom_start=12)\n",
    "folium.CircleMarker(location=[40.7410861, -73.9896298241625], \n",
    "                    radius=3,\n",
    "                    popup='Flatiron Building', \n",
    "                    fill_color='#3186cc').add_to(m)\n",
    "m"
   ]
  },
  {
   "cell_type": "code",
   "execution_count": null,
   "metadata": {},
   "outputs": [],
   "source": [
    "from geopy.geocoders import Nominatim\n",
    "import re\n",
    "import time\n",
    "import csv\n",
    "\n",
    "geolocator = Nominatim(user_agent='ml_capstone_py/1.0 (stevenya97@gmail.com)')\n",
    "#requests.get(link, headers = {'User-agent': 'my_app_ml'})"
   ]
  },
  {
   "cell_type": "code",
   "execution_count": null,
   "metadata": {},
   "outputs": [],
   "source": [
    "#### geopy test\n",
    "location = geolocator.geocode(\"175 5th Avenue NYC\")\n",
    "print(location.address)\n",
    "\n",
    "print((location.latitude, location.longitude))\n",
    "\n",
    "print(location.raw)\n"
   ]
  },
  {
   "cell_type": "code",
   "execution_count": null,
   "metadata": {},
   "outputs": [],
   "source": [
    "location = geolocator.reverse(\"40.7410861, -73.9896298241625\")\n",
    "print(location.address)\n",
    "\n",
    "print((location.latitude, location.longitude))\n",
    "\n",
    "print(location.raw)"
   ]
  },
  {
   "cell_type": "code",
   "execution_count": null,
   "metadata": {},
   "outputs": [],
   "source": [
    "sample_data2_big.iat[1,11]"
   ]
  },
  {
   "cell_type": "code",
   "execution_count": null,
   "metadata": {},
   "outputs": [],
   "source": [
    "coord_df=pd.DataFrame((sample_data2_big['Coord']))\n"
   ]
  },
  {
   "cell_type": "code",
   "execution_count": null,
   "metadata": {},
   "outputs": [],
   "source": [
    "coord_df.iat[1,0]"
   ]
  },
  {
   "cell_type": "code",
   "execution_count": null,
   "metadata": {},
   "outputs": [],
   "source": [
    "geolocator.reverse(str(coord_df.iat[1,0]), timeout=500)"
   ]
  },
  {
   "cell_type": "code",
   "execution_count": null,
   "metadata": {},
   "outputs": [],
   "source": [
    "sample_data2_big.shape[0]"
   ]
  }
 ],
 "metadata": {
  "kernelspec": {
   "display_name": "Python 3",
   "language": "python",
   "name": "python3"
  },
  "language_info": {
   "codemirror_mode": {
    "name": "ipython",
    "version": 3
   },
   "file_extension": ".py",
   "mimetype": "text/x-python",
   "name": "python",
   "nbconvert_exporter": "python",
   "pygments_lexer": "ipython3",
   "version": "3.6.7"
  }
 },
 "nbformat": 4,
 "nbformat_minor": 2
}
